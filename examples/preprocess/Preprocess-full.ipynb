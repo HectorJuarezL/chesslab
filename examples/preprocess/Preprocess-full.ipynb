{
 "cells": [
  {
   "cell_type": "markdown",
   "metadata": {},
   "source": [
    "This notebook preprocess the data extracted from the chess database.\n",
    "\n",
    "To run this notebook with all the 170 million of positions from the chess database is required at least 8GB of RAM (if you use a local machine, for some reason, I can't run it on google colab).\n",
    "\n",
    "I used a laptop with a SSD NVMe, Intel i7-9750h and 24GB RAM DDR4@2666Mhz \n",
    "\n"
   ]
  },
  {
   "cell_type": "code",
   "execution_count": 1,
   "metadata": {},
   "outputs": [
    {
     "name": "stdout",
     "output_type": "stream",
     "text": [
      "If all data were loaded, it would take at least 10.1 GB of RAM\n"
     ]
    }
   ],
   "source": [
    "total_ram = 170e6*64/1024/1024/1024\n",
    "print(\"If all data were loaded, it would take at least {:.1f} GB of RAM\".format(total_ram))"
   ]
  },
  {
   "cell_type": "code",
   "execution_count": 2,
   "metadata": {},
   "outputs": [],
   "source": [
    "#!pip install chesslab --upgrade"
   ]
  },
  {
   "cell_type": "code",
   "execution_count": 3,
   "metadata": {},
   "outputs": [],
   "source": [
    "from chesslab.preprocessing import preprocess"
   ]
  },
  {
   "cell_type": "code",
   "execution_count": 4,
   "metadata": {},
   "outputs": [],
   "source": [
    "download=False"
   ]
  },
  {
   "cell_type": "code",
   "execution_count": 5,
   "metadata": {},
   "outputs": [],
   "source": [
    "#https://drive.google.com/file/d/1XwH0reHwaOA0Tpt0ihJkP_XW99EUhlp9/view?usp=sharing\n",
    "if download:\n",
    "    from chesslab.utils import download_7z\n",
    "    path='./'\n",
    "    file_id = '1XwH0reHwaOA0Tpt0ihJkP_XW99EUhlp9'\n",
    "    download_7z(file_id,path)\n",
    "else:\n",
    "    path='../database/ccrl/'"
   ]
  },
  {
   "cell_type": "code",
   "execution_count": 7,
   "metadata": {
    "tags": []
   },
   "outputs": [
    {
     "name": "stdout",
     "output_type": "stream",
     "text": [
      "Reading blocks\n",
      "file: 1\n",
      "total of positions: 198529\n",
      "Total of positions after draw filter: 61674\n",
      "================================================================================\n",
      "Selecting 40 game states per game\n",
      "total of different games: 522\n",
      "total of positions: 20880\n",
      "================================================================================\n",
      "deleting duplicates\n",
      "total of positions: 6335\n",
      "================================================================================\n",
      "deleting games with both winners\n",
      "total of positions: 6304\n",
      "================================================================================\n",
      "white total wins: 3267\n",
      "black total wins: 3037\n",
      "IB=1.08\n",
      "saving files\n",
      "files saved\n",
      "Elapsed time: 0s = 0.0m\n"
     ]
    }
   ],
   "source": [
    "block_size=1000000\n",
    "blocks=1\n",
    "path_files= path\n",
    "start_name= 'chess'\n",
    "min_elo= 0\n",
    "data_name= 'ccrl_states_full'\n",
    "labels_name= 'ccrl_results_full'\n",
    "elo_filter= 0 #1 = mean, 2 = min\n",
    "nb_game_filter= 40 #si se establece en 0 no aplica el filtro\n",
    "delete_duplicate=True\n",
    "delete_draws= True\n",
    "delete_both_winners = True\n",
    "delete_eaten=False\n",
    "undersampling=False\n",
    "\n",
    "\n",
    "preprocess(\n",
    "    block_size= block_size,\n",
    "    blocks= blocks,\n",
    "    path= path_files,\n",
    "    start_name= start_name,\n",
    "    min_elo= min_elo,\n",
    "    data_name= data_name,\n",
    "    labels_name= labels_name,\n",
    "    elo_filter= elo_filter,\n",
    "    nb_game_filter= nb_game_filter,\n",
    "    delete_eaten=delete_eaten,\n",
    "    delete_duplicate=delete_duplicate,\n",
    "    delete_draws= delete_draws,\n",
    "    delete_both_winners = delete_both_winners,\n",
    "    undersampling=undersampling)"
   ]
  },
  {
   "cell_type": "code",
   "execution_count": null,
   "metadata": {},
   "outputs": [],
   "source": []
  }
 ],
 "metadata": {
  "kernelspec": {
   "display_name": "Python 3 (ipykernel)",
   "language": "python",
   "name": "python3"
  },
  "language_info": {
   "codemirror_mode": {
    "name": "ipython",
    "version": 3
   },
   "file_extension": ".py",
   "mimetype": "text/x-python",
   "name": "python",
   "nbconvert_exporter": "python",
   "pygments_lexer": "ipython3",
   "version": "3.9.16"
  }
 },
 "nbformat": 4,
 "nbformat_minor": 4
}
