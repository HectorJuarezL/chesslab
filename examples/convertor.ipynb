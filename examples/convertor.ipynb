{
 "cells": [
  {
   "cell_type": "code",
   "execution_count": 1,
   "metadata": {},
   "outputs": [],
   "source": [
    "from chesslab.utils import Timer, params\n",
    "from chesslab.convertor import convert_games"
   ]
  },
  {
   "cell_type": "code",
   "execution_count": 2,
   "metadata": {},
   "outputs": [
    {
     "name": "stdout",
     "output_type": "stream",
     "text": [
      "Tamaño del bloque: 1000000\n",
      "Codificacion intermedia: {'.': 0, 'p': 1, 'P': 2, 'b': 3, 'B': 4, 'n': 5, 'N': 6, 'r': 7, 'R': 8, 'q': 9, 'Q': 10, 'k': 11, 'K': 12}\n"
     ]
    }
   ],
   "source": [
    "block_size= params.block_size # Tamaño del bloque de estados a guardar por archivo\n",
    "                                #con el tamaño por default, usando la base ccrl4040 se esperan 70 bloques\n",
    "blocks=0 #Numero de bloques a extraer, establecer en 0 para extraer todos los del archivo PGN\n",
    "start_name = 'chess' # nombre base de lor archivos a crear, permitiendo así guardar extracciones de distintas bases de datos en la misma ruta\n",
    "source_file ='./Stockfish_15_64-bit_4CPU.pgn' # Archivo PGN a convertir descargado de https://ccrl.chessdom.com/ccrl/4040/games.html\n",
    "save_path ='./database/ccrl/' #Direccion donde se guardará la base convertida\n",
    "\n",
    "inter_map=params.inter_map #codificación intermedia\n",
    "print(\"Tamaño del bloque: {}\\nCodificacion intermedia: {}\".format(block_size,inter_map))"
   ]
  },
  {
   "cell_type": "code",
   "execution_count": 3,
   "metadata": {},
   "outputs": [
    {
     "name": "stdout",
     "output_type": "stream",
     "text": [
      " 1 block reading: 19.83%Time elapsed: 26.3s = 26.3m\n",
      "Time elapsed: 26.4s = 26.4m\n"
     ]
    }
   ],
   "source": [
    "timer=Timer()\n",
    "convert_games(source=source_file,save_path= save_path,start_name= start_name,blocks=blocks,block_size= block_size,inter_map=inter_map)\n",
    "timer.toc()"
   ]
  },
  {
   "cell_type": "code",
   "execution_count": null,
   "metadata": {},
   "outputs": [],
   "source": []
  }
 ],
 "metadata": {
  "kernelspec": {
   "display_name": "Python 3 (ipykernel)",
   "language": "python",
   "name": "python3"
  },
  "language_info": {
   "codemirror_mode": {
    "name": "ipython",
    "version": 3
   },
   "file_extension": ".py",
   "mimetype": "text/x-python",
   "name": "python",
   "nbconvert_exporter": "python",
   "pygments_lexer": "ipython3",
   "version": "3.9.16"
  }
 },
 "nbformat": 4,
 "nbformat_minor": 4
}
